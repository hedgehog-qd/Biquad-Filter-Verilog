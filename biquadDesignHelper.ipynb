{
 "cells": [
  {
   "cell_type": "markdown",
   "metadata": {
    "collapsed": false,
    "jupyter": {
     "outputs_hidden": false
    }
   },
   "source": [
    "# This helper tool is designed to help you test whether the biquad filter can work"
   ]
  },
  {
   "cell_type": "markdown",
   "metadata": {},
   "source": [
    "-- --\n",
    "**Biquad equation:**"
   ]
  },
  {
   "cell_type": "markdown",
   "metadata": {
    "collapsed": false,
    "jupyter": {
     "outputs_hidden": false
    }
   },
   "source": [
    ">y[n] = a0 * x[n] + d1<br>d1 = a1 * x[n-1] + b1 * y[n-1] + d2<br>d2 = a2 * x[n-2] + b2 * y[n-2]"
   ]
  },
  {
   "cell_type": "markdown",
   "metadata": {
    "collapsed": false,
    "jupyter": {
     "outputs_hidden": false
    }
   },
   "source": [
    "-- --\n",
    "### Biquad Coefficients"
   ]
  },
  {
   "cell_type": "code",
   "execution_count": 1,
   "metadata": {},
   "outputs": [],
   "source": [
    "a0 = 0.0012074046354035072\n",
    "a1 = 0.0024148092708070144\n",
    "a2 = 0.0012074046354035072\n",
    "b1 = 1.8993325472756315\n",
    "b2 = -0.9041621658172454"
   ]
  },
  {
   "cell_type": "markdown",
   "metadata": {
    "collapsed": false,
    "jupyter": {
     "outputs_hidden": false
    }
   },
   "source": [
    "### Input data x[n]"
   ]
  },
  {
   "cell_type": "code",
   "execution_count": 2,
   "metadata": {
    "collapsed": false,
    "jupyter": {
     "outputs_hidden": false
    },
    "pycharm": {
     "name": "#%%\n"
    }
   },
   "outputs": [],
   "source": [
    "xn = 1000  # 3E8"
   ]
  },
  {
   "cell_type": "markdown",
   "metadata": {
    "collapsed": false,
    "jupyter": {
     "outputs_hidden": false
    }
   },
   "source": [
    "### Function and Registers"
   ]
  },
  {
   "cell_type": "code",
   "execution_count": 9,
   "metadata": {
    "collapsed": false,
    "jupyter": {
     "outputs_hidden": false
    },
    "pycharm": {
     "name": "#%%\n"
    }
   },
   "outputs": [],
   "source": [
    "xn_2 = 0\n",
    "xn_1 = 0\n",
    "yn_2 = 0\n",
    "yn_1 = 0\n",
    "\n",
    "turn = 0\n",
    "\n",
    "def biquad_calc(xn):\n",
    "    global xn_2\n",
    "    global xn_1\n",
    "    global yn_2\n",
    "    global yn_1\n",
    "    global turn\n",
    "    d2 = a2 * xn_2 + b2 * yn_2\n",
    "    d1 = a1 * xn_1 + b1 * yn_1 + d2\n",
    "    yn = a0 * xn + d1\n",
    "    # update registers\n",
    "    xn_2 = xn_1\n",
    "    yn_2 = yn_1\n",
    "    xn_1 = xn\n",
    "    yn_1 = yn\n",
    "    turn = turn + 1\n",
    "    print(\"Output for turn \" + str(turn) + \": \" + str(yn))\n"
   ]
  },
  {
   "cell_type": "markdown",
   "metadata": {},
   "source": [
    "### Now lets calculate the *expected* output value"
   ]
  },
  {
   "cell_type": "code",
   "execution_count": 13,
   "metadata": {},
   "outputs": [
    {
     "name": "stdout",
     "output_type": "stream",
     "text": [
      "Output for turn 4: 27.920508757872806\n"
     ]
    }
   ],
   "source": [
    "biquad_calc(xn)"
   ]
  },
  {
   "cell_type": "code",
   "execution_count": null,
   "metadata": {},
   "outputs": [],
   "source": []
  }
 ],
 "metadata": {
  "kernelspec": {
   "display_name": "Python 3 (ipykernel)",
   "language": "python",
   "name": "python3"
  },
  "language_info": {
   "codemirror_mode": {
    "name": "ipython",
    "version": 3
   },
   "file_extension": ".py",
   "mimetype": "text/x-python",
   "name": "python",
   "nbconvert_exporter": "python",
   "pygments_lexer": "ipython3",
   "version": "3.10.8"
  }
 },
 "nbformat": 4,
 "nbformat_minor": 4
}